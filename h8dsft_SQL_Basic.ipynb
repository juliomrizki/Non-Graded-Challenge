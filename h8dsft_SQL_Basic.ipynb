{
 "cells": [
  {
   "cell_type": "code",
   "execution_count": null,
   "metadata": {},
   "outputs": [],
   "source": [
    "SELECT bike_trip.trip_id,\n",
    "bike_trip.start_date,\n",
    "bike_trip.subscriber_type,\n",
    "bike_trip.start_station_name,\n",
    "bike_trip.start_station_id,\n",
    "bike_station.station_id,\n",
    "bike_station.landmark\n",
    "\n",
    "FROM `bigquery-public-data.san_francisco.bikeshare_trips` AS bike_trip\n",
    "JOIN `bigquery-public-data.san_francisco.bikeshare_stations` AS bike_station\n",
    "  ON bike_trip.start_station_id = bike_station.station_id\n",
    "WHERE (bike_trip.start_date BETWEEN '2016-01-01' AND '2016-03-31')\n",
    "  AND (bike_trip.subscriber_type IN ('Subscriber'))\n",
    "  AND (bike_station.landmark IN ('Redwood City'))\n",
    "ORDER by bike_trip.start_date"
   ]
  },
  {
   "cell_type": "code",
   "execution_count": null,
   "metadata": {},
   "outputs": [],
   "source": [
    "SELECT bike_trip.trip_id,\n",
    "bike_trip.start_date,\n",
    "bike_trip.subscriber_type,\n",
    "bike_trip.start_station_name,\n",
    "bike_trip.start_station_id,\n",
    "bike_station.station_id,\n",
    "bike_station.landmark\n",
    "\n",
    "FROM `bigquery-public-data.san_francisco.bikeshare_trips` AS bike_trip\n",
    "JOIN `bigquery-public-data.san_francisco.bikeshare_stations` AS bike_station\n",
    "  ON bike_trip.start_station_id = bike_station.station_id\n",
    "WHERE (bike_trip.start_date BETWEEN '2016-04-01' AND '2016-06-30')\n",
    "  AND (bike_trip.subscriber_type IN ('Subscriber'))\n",
    "  AND (bike_station.landmark IN ('Redwood City'))\n",
    "ORDER BY bike_trip.start_date"
   ]
  },
  {
   "cell_type": "code",
   "execution_count": null,
   "metadata": {},
   "outputs": [],
   "source": [
    "SELECT COUNT(bike_trip.trip_id) as Perbandingan_Q1_dan_Q2\n",
    "\n",
    "\n",
    "FROM `bigquery-public-data.san_francisco.bikeshare_trips` AS bike_trip\n",
    "JOIN `bigquery-public-data.san_francisco.bikeshare_stations` AS bike_station\n",
    "  ON bike_trip.start_station_id = bike_station.station_id\n",
    "WHERE (bike_trip.start_date BETWEEN '2016-01-01' AND '2016-03-31')\n",
    "  AND (bike_trip.subscriber_type IN ('Subscriber'))\n",
    "  AND (bike_station.landmark IN ('Redwood City'))\n",
    "\n",
    "UNION ALL\n",
    "SELECT COUNT(bike_trip.trip_id)\n",
    "\n",
    "FROM `bigquery-public-data.san_francisco.bikeshare_trips` AS bike_trip\n",
    "JOIN `bigquery-public-data.san_francisco.bikeshare_stations` AS bike_station\n",
    "  ON bike_trip.start_station_id = bike_station.station_id\n",
    "WHERE (bike_trip.start_date BETWEEN '2016-04-01' AND '2016-06-30')\n",
    "  AND (bike_trip.subscriber_type IN ('Subscriber'))\n",
    "  AND (bike_station.landmark IN ('Redwood City'))"
   ]
  },
  {
   "cell_type": "code",
   "execution_count": null,
   "metadata": {},
   "outputs": [],
   "source": [
    "SELECT\n",
    "(SELECT COUNT(bike_trip.trip_id)\n",
    "\n",
    "\n",
    "FROM `bigquery-public-data.san_francisco.bikeshare_trips` AS bike_trip\n",
    "JOIN `bigquery-public-data.san_francisco.bikeshare_stations` AS bike_station\n",
    "  ON bike_trip.start_station_id = bike_station.station_id\n",
    "WHERE (bike_trip.start_date BETWEEN '2016-01-01' AND '2016-03-31')\n",
    "  AND (bike_trip.subscriber_type IN ('Subscriber'))\n",
    "  AND (bike_station.landmark IN ('Redwood City'))\n",
    ") as Q1,\n",
    "\n",
    "(SELECT COUNT(bike_trip.trip_id)\n",
    "\n",
    "FROM `bigquery-public-data.san_francisco.bikeshare_trips` AS bike_trip\n",
    "JOIN `bigquery-public-data.san_francisco.bikeshare_stations` AS bike_station\n",
    "  ON bike_trip.start_station_id = bike_station.station_id\n",
    "WHERE (bike_trip.start_date BETWEEN '2016-04-01' AND '2016-06-30')\n",
    "  AND (bike_trip.subscriber_type IN ('Subscriber'))\n",
    "  AND (bike_station.landmark IN ('Redwood City'))) as Q2"
   ]
  }
 ],
 "metadata": {
  "kernelspec": {
   "display_name": "Python 3.9.13 ('base')",
   "language": "python",
   "name": "python3"
  },
  "language_info": {
   "name": "python",
   "version": "3.9.13"
  },
  "orig_nbformat": 4,
  "vscode": {
   "interpreter": {
    "hash": "dcd69a82889998cdb0cb6483275b6b0e0dce409c8639ae7e2066db837abe02f6"
   }
  }
 },
 "nbformat": 4,
 "nbformat_minor": 2
}
